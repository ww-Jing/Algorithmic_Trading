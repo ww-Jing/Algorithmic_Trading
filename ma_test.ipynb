{
  "nbformat": 4,
  "nbformat_minor": 0,
  "metadata": {
    "colab": {
      "provenance": [],
      "include_colab_link": true
    },
    "kernelspec": {
      "name": "python3",
      "display_name": "Python 3"
    },
    "language_info": {
      "name": "python"
    }
  },
  "cells": [
    {
      "cell_type": "markdown",
      "metadata": {
        "id": "view-in-github",
        "colab_type": "text"
      },
      "source": [
        "<a href=\"https://colab.research.google.com/github/ww-Jing/Algorithmic_Trading/blob/main/ma_test.ipynb\" target=\"_parent\"><img src=\"https://colab.research.google.com/assets/colab-badge.svg\" alt=\"Open In Colab\"/></a>"
      ]
    },
    {
      "cell_type": "code",
      "execution_count": null,
      "metadata": {
        "id": "aTJjMxVdKwNw"
      },
      "outputs": [],
      "source": [
        "!pip install yfinance "
      ]
    },
    {
      "cell_type": "code",
      "source": [
        "import pandas as pd\n",
        "import numpy as np\n",
        "import yfinance as yf"
      ],
      "metadata": {
        "id": "EeDarH3vKz-j"
      },
      "execution_count": null,
      "outputs": []
    },
    {
      "cell_type": "code",
      "source": [
        "# 定義策略\n",
        "def moving_average_strategy(data, short_window, long_window):\n",
        "    # 計算短期和長期均線\n",
        "    data['short_mavg'] = data['Adj Close'].rolling(window=short_window).mean()\n",
        "    data['long_mavg'] = data['Adj Close'].rolling(window=long_window).mean()\n",
        "    # 產生交易訊號\n",
        "    data['signal'] = np.where(data['short_mavg'] > data['long_mavg'], 1, 0)\n",
        "    data['positions'] = data['signal'].diff().shift(1)\n",
        "    \n",
        "    return data"
      ],
      "metadata": {
        "id": "NNmkNSSzK-WG"
      },
      "execution_count": null,
      "outputs": []
    },
    {
      "cell_type": "code",
      "source": [
        "# 載入歷史資料\n",
        "ticker = 'AAPL'\n",
        "start_date = '2015-01-01'\n",
        "end_date = '2022-03-07'\n",
        "data = yf.download(ticker, start=start_date, end=end_date)"
      ],
      "metadata": {
        "colab": {
          "base_uri": "https://localhost:8080/"
        },
        "id": "s-Prdl4uMIUM",
        "outputId": "9ae989d2-fad7-4c34-8b43-1daf18ebe6d1"
      },
      "execution_count": null,
      "outputs": [
        {
          "output_type": "stream",
          "name": "stdout",
          "text": [
            "\r[*********************100%***********************]  1 of 1 completed\n"
          ]
        }
      ]
    },
    {
      "cell_type": "code",
      "source": [
        "# 設定均線期數和初始資金\n",
        "short_window = 5\n",
        "long_window = 100\n",
        "initial_capital = 100000\n",
        "\n",
        "# 執行回測策略\n",
        "data_0 = moving_average_strategy(data, short_window, long_window)"
      ],
      "metadata": {
        "id": "1fKqt1qOMJC_"
      },
      "execution_count": null,
      "outputs": []
    },
    {
      "cell_type": "code",
      "source": [
        "#計算收益\n",
        "#方法1\n",
        "data_1 = data_0.reset_index()\n",
        "#取出有做買賣的日子\n",
        "data_1['positions'] = data_1['positions'].replace(np.nan, 0)\n",
        "data_1 = data_1[data_1['positions'] != 0][['Date','Adj Close', 'Close', 'positions']]\n",
        "\n",
        "data_1['price'] = data_1['Adj Close']*data_1['positions']\n",
        "data_1['ret'] = -(data_1['price']+data_1['price'].shift(1)) / data_1['price'].shift(1)\n",
        "data_1['ret'] = data_1['ret'].dropna()\n",
        "data_1['total_ret'] = (1 + data_1['ret']).cumprod()\n",
        "\n",
        "#data_1.head()"
      ],
      "metadata": {
        "colab": {
          "base_uri": "https://localhost:8080/",
          "height": 204
        },
        "id": "xVBFMVNKMOGF",
        "outputId": "1d95a95c-6bd4-4062-9f56-5accd287b176"
      },
      "execution_count": null,
      "outputs": [
        {
          "output_type": "execute_result",
          "data": {
            "text/plain": [
              "          Date  Adj Close      Close  positions      price       ret  \\\n",
              "100 2015-05-28  29.851091  32.945000        1.0  29.851091       NaN   \n",
              "123 2015-06-30  28.412676  31.357500       -1.0 -28.412676 -0.048186   \n",
              "136 2015-07-20  29.916777  33.017502        1.0  29.916777  0.052938   \n",
              "142 2015-07-28  27.948301  30.844999       -1.0 -27.948301 -0.065798   \n",
              "209 2015-10-30  27.191927  29.875000        1.0  27.191927 -0.027063   \n",
              "\n",
              "     total_ret  \n",
              "100        NaN  \n",
              "123   0.951814  \n",
              "136   1.002200  \n",
              "142   0.936257  \n",
              "209   0.910919  "
            ],
            "text/html": [
              "\n",
              "  <div id=\"df-ee0206b0-2f2b-4c1c-aa27-c7432d29838c\">\n",
              "    <div class=\"colab-df-container\">\n",
              "      <div>\n",
              "<style scoped>\n",
              "    .dataframe tbody tr th:only-of-type {\n",
              "        vertical-align: middle;\n",
              "    }\n",
              "\n",
              "    .dataframe tbody tr th {\n",
              "        vertical-align: top;\n",
              "    }\n",
              "\n",
              "    .dataframe thead th {\n",
              "        text-align: right;\n",
              "    }\n",
              "</style>\n",
              "<table border=\"1\" class=\"dataframe\">\n",
              "  <thead>\n",
              "    <tr style=\"text-align: right;\">\n",
              "      <th></th>\n",
              "      <th>Date</th>\n",
              "      <th>Adj Close</th>\n",
              "      <th>Close</th>\n",
              "      <th>positions</th>\n",
              "      <th>price</th>\n",
              "      <th>ret</th>\n",
              "      <th>total_ret</th>\n",
              "    </tr>\n",
              "  </thead>\n",
              "  <tbody>\n",
              "    <tr>\n",
              "      <th>100</th>\n",
              "      <td>2015-05-28</td>\n",
              "      <td>29.851091</td>\n",
              "      <td>32.945000</td>\n",
              "      <td>1.0</td>\n",
              "      <td>29.851091</td>\n",
              "      <td>NaN</td>\n",
              "      <td>NaN</td>\n",
              "    </tr>\n",
              "    <tr>\n",
              "      <th>123</th>\n",
              "      <td>2015-06-30</td>\n",
              "      <td>28.412676</td>\n",
              "      <td>31.357500</td>\n",
              "      <td>-1.0</td>\n",
              "      <td>-28.412676</td>\n",
              "      <td>-0.048186</td>\n",
              "      <td>0.951814</td>\n",
              "    </tr>\n",
              "    <tr>\n",
              "      <th>136</th>\n",
              "      <td>2015-07-20</td>\n",
              "      <td>29.916777</td>\n",
              "      <td>33.017502</td>\n",
              "      <td>1.0</td>\n",
              "      <td>29.916777</td>\n",
              "      <td>0.052938</td>\n",
              "      <td>1.002200</td>\n",
              "    </tr>\n",
              "    <tr>\n",
              "      <th>142</th>\n",
              "      <td>2015-07-28</td>\n",
              "      <td>27.948301</td>\n",
              "      <td>30.844999</td>\n",
              "      <td>-1.0</td>\n",
              "      <td>-27.948301</td>\n",
              "      <td>-0.065798</td>\n",
              "      <td>0.936257</td>\n",
              "    </tr>\n",
              "    <tr>\n",
              "      <th>209</th>\n",
              "      <td>2015-10-30</td>\n",
              "      <td>27.191927</td>\n",
              "      <td>29.875000</td>\n",
              "      <td>1.0</td>\n",
              "      <td>27.191927</td>\n",
              "      <td>-0.027063</td>\n",
              "      <td>0.910919</td>\n",
              "    </tr>\n",
              "  </tbody>\n",
              "</table>\n",
              "</div>\n",
              "      <button class=\"colab-df-convert\" onclick=\"convertToInteractive('df-ee0206b0-2f2b-4c1c-aa27-c7432d29838c')\"\n",
              "              title=\"Convert this dataframe to an interactive table.\"\n",
              "              style=\"display:none;\">\n",
              "        \n",
              "  <svg xmlns=\"http://www.w3.org/2000/svg\" height=\"24px\"viewBox=\"0 0 24 24\"\n",
              "       width=\"24px\">\n",
              "    <path d=\"M0 0h24v24H0V0z\" fill=\"none\"/>\n",
              "    <path d=\"M18.56 5.44l.94 2.06.94-2.06 2.06-.94-2.06-.94-.94-2.06-.94 2.06-2.06.94zm-11 1L8.5 8.5l.94-2.06 2.06-.94-2.06-.94L8.5 2.5l-.94 2.06-2.06.94zm10 10l.94 2.06.94-2.06 2.06-.94-2.06-.94-.94-2.06-.94 2.06-2.06.94z\"/><path d=\"M17.41 7.96l-1.37-1.37c-.4-.4-.92-.59-1.43-.59-.52 0-1.04.2-1.43.59L10.3 9.45l-7.72 7.72c-.78.78-.78 2.05 0 2.83L4 21.41c.39.39.9.59 1.41.59.51 0 1.02-.2 1.41-.59l7.78-7.78 2.81-2.81c.8-.78.8-2.07 0-2.86zM5.41 20L4 18.59l7.72-7.72 1.47 1.35L5.41 20z\"/>\n",
              "  </svg>\n",
              "      </button>\n",
              "      \n",
              "  <style>\n",
              "    .colab-df-container {\n",
              "      display:flex;\n",
              "      flex-wrap:wrap;\n",
              "      gap: 12px;\n",
              "    }\n",
              "\n",
              "    .colab-df-convert {\n",
              "      background-color: #E8F0FE;\n",
              "      border: none;\n",
              "      border-radius: 50%;\n",
              "      cursor: pointer;\n",
              "      display: none;\n",
              "      fill: #1967D2;\n",
              "      height: 32px;\n",
              "      padding: 0 0 0 0;\n",
              "      width: 32px;\n",
              "    }\n",
              "\n",
              "    .colab-df-convert:hover {\n",
              "      background-color: #E2EBFA;\n",
              "      box-shadow: 0px 1px 2px rgba(60, 64, 67, 0.3), 0px 1px 3px 1px rgba(60, 64, 67, 0.15);\n",
              "      fill: #174EA6;\n",
              "    }\n",
              "\n",
              "    [theme=dark] .colab-df-convert {\n",
              "      background-color: #3B4455;\n",
              "      fill: #D2E3FC;\n",
              "    }\n",
              "\n",
              "    [theme=dark] .colab-df-convert:hover {\n",
              "      background-color: #434B5C;\n",
              "      box-shadow: 0px 1px 3px 1px rgba(0, 0, 0, 0.15);\n",
              "      filter: drop-shadow(0px 1px 2px rgba(0, 0, 0, 0.3));\n",
              "      fill: #FFFFFF;\n",
              "    }\n",
              "  </style>\n",
              "\n",
              "      <script>\n",
              "        const buttonEl =\n",
              "          document.querySelector('#df-ee0206b0-2f2b-4c1c-aa27-c7432d29838c button.colab-df-convert');\n",
              "        buttonEl.style.display =\n",
              "          google.colab.kernel.accessAllowed ? 'block' : 'none';\n",
              "\n",
              "        async function convertToInteractive(key) {\n",
              "          const element = document.querySelector('#df-ee0206b0-2f2b-4c1c-aa27-c7432d29838c');\n",
              "          const dataTable =\n",
              "            await google.colab.kernel.invokeFunction('convertToInteractive',\n",
              "                                                     [key], {});\n",
              "          if (!dataTable) return;\n",
              "\n",
              "          const docLinkHtml = 'Like what you see? Visit the ' +\n",
              "            '<a target=\"_blank\" href=https://colab.research.google.com/notebooks/data_table.ipynb>data table notebook</a>'\n",
              "            + ' to learn more about interactive tables.';\n",
              "          element.innerHTML = '';\n",
              "          dataTable['output_type'] = 'display_data';\n",
              "          await google.colab.output.renderOutput(dataTable, element);\n",
              "          const docLink = document.createElement('div');\n",
              "          docLink.innerHTML = docLinkHtml;\n",
              "          element.appendChild(docLink);\n",
              "        }\n",
              "      </script>\n",
              "    </div>\n",
              "  </div>\n",
              "  "
            ]
          },
          "metadata": {},
          "execution_count": 79
        }
      ]
    },
    {
      "cell_type": "code",
      "source": [
        "#方法2 (方法跟法1一樣，但這裡利用pct_change.to_numpy去做運算)\n",
        "data_1['pct_change'] = data_1['Adj Close'].pct_change()\n",
        "pct_change = data_1['pct_change'].to_numpy()\n",
        "pct_change = np.delete(pct_change, [0])\n",
        "\n",
        "total_ret = 1 \n",
        "\n",
        "for i in range(len(pct_change)):\n",
        "  total_ret *= 1 + pct_change[i]\n",
        "\n",
        "final_rate = pow(total_ret, 1/(len(data_1['positions'])))-1\n",
        "print(total_ret)\n",
        "print(final_rate)"
      ],
      "metadata": {
        "colab": {
          "base_uri": "https://localhost:8080/"
        },
        "id": "YWYZ_iExN9cL",
        "outputId": "5f14a7f8-747e-451f-e486-1b1a2ee5b699"
      },
      "execution_count": null,
      "outputs": [
        {
          "output_type": "stream",
          "name": "stdout",
          "text": [
            "4.369812241331291\n",
            "0.045702058487023134\n"
          ]
        }
      ]
    }
  ]
}