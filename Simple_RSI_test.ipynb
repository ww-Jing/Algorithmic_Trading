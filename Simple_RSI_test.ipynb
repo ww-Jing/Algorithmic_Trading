{
  "nbformat": 4,
  "nbformat_minor": 0,
  "metadata": {
    "colab": {
      "provenance": [],
      "authorship_tag": "ABX9TyPKPvFzAr1RPFkCX59Ltep5",
      "include_colab_link": true
    },
    "kernelspec": {
      "name": "python3",
      "display_name": "Python 3"
    },
    "language_info": {
      "name": "python"
    }
  },
  "cells": [
    {
      "cell_type": "markdown",
      "metadata": {
        "id": "view-in-github",
        "colab_type": "text"
      },
      "source": [
        "<a href=\"https://colab.research.google.com/github/ww-Jing/Algorithmic_Trading/blob/main/Simple_RSI_test.ipynb\" target=\"_parent\"><img src=\"https://colab.research.google.com/assets/colab-badge.svg\" alt=\"Open In Colab\"/></a>"
      ]
    },
    {
      "cell_type": "code",
      "execution_count": 1,
      "metadata": {
        "id": "QjZJ8a8JhIb4",
        "colab": {
          "base_uri": "https://localhost:8080/"
        },
        "outputId": "07c7be1d-1872-47d4-a43a-a0ba27293c03"
      },
      "outputs": [
        {
          "output_type": "stream",
          "name": "stdout",
          "text": [
            "Looking in indexes: https://pypi.org/simple, https://us-python.pkg.dev/colab-wheels/public/simple/\n",
            "Requirement already satisfied: pandas in /usr/local/lib/python3.9/dist-packages (1.4.4)\n",
            "Requirement already satisfied: numpy>=1.18.5 in /usr/local/lib/python3.9/dist-packages (from pandas) (1.22.4)\n",
            "Requirement already satisfied: pytz>=2020.1 in /usr/local/lib/python3.9/dist-packages (from pandas) (2022.7.1)\n",
            "Requirement already satisfied: python-dateutil>=2.8.1 in /usr/local/lib/python3.9/dist-packages (from pandas) (2.8.2)\n",
            "Requirement already satisfied: six>=1.5 in /usr/local/lib/python3.9/dist-packages (from python-dateutil>=2.8.1->pandas) (1.16.0)\n",
            "Looking in indexes: https://pypi.org/simple, https://us-python.pkg.dev/colab-wheels/public/simple/\n",
            "Requirement already satisfied: yfinance in /usr/local/lib/python3.9/dist-packages (0.2.14)\n",
            "Requirement already satisfied: pytz>=2022.5 in /usr/local/lib/python3.9/dist-packages (from yfinance) (2022.7.1)\n",
            "Requirement already satisfied: multitasking>=0.0.7 in /usr/local/lib/python3.9/dist-packages (from yfinance) (0.0.11)\n",
            "Requirement already satisfied: appdirs>=1.4.4 in /usr/local/lib/python3.9/dist-packages (from yfinance) (1.4.4)\n",
            "Requirement already satisfied: beautifulsoup4>=4.11.1 in /usr/local/lib/python3.9/dist-packages (from yfinance) (4.11.2)\n",
            "Requirement already satisfied: html5lib>=1.1 in /usr/local/lib/python3.9/dist-packages (from yfinance) (1.1)\n",
            "Requirement already satisfied: frozendict>=2.3.4 in /usr/local/lib/python3.9/dist-packages (from yfinance) (2.3.6)\n",
            "Requirement already satisfied: requests>=2.26 in /usr/local/lib/python3.9/dist-packages (from yfinance) (2.27.1)\n",
            "Requirement already satisfied: lxml>=4.9.1 in /usr/local/lib/python3.9/dist-packages (from yfinance) (4.9.2)\n",
            "Requirement already satisfied: numpy>=1.16.5 in /usr/local/lib/python3.9/dist-packages (from yfinance) (1.22.4)\n",
            "Requirement already satisfied: pandas>=1.3.0 in /usr/local/lib/python3.9/dist-packages (from yfinance) (1.4.4)\n",
            "Requirement already satisfied: cryptography>=3.3.2 in /usr/local/lib/python3.9/dist-packages (from yfinance) (40.0.1)\n",
            "Requirement already satisfied: soupsieve>1.2 in /usr/local/lib/python3.9/dist-packages (from beautifulsoup4>=4.11.1->yfinance) (2.4)\n",
            "Requirement already satisfied: cffi>=1.12 in /usr/local/lib/python3.9/dist-packages (from cryptography>=3.3.2->yfinance) (1.15.1)\n",
            "Requirement already satisfied: six>=1.9 in /usr/local/lib/python3.9/dist-packages (from html5lib>=1.1->yfinance) (1.16.0)\n",
            "Requirement already satisfied: webencodings in /usr/local/lib/python3.9/dist-packages (from html5lib>=1.1->yfinance) (0.5.1)\n",
            "Requirement already satisfied: python-dateutil>=2.8.1 in /usr/local/lib/python3.9/dist-packages (from pandas>=1.3.0->yfinance) (2.8.2)\n",
            "Requirement already satisfied: urllib3<1.27,>=1.21.1 in /usr/local/lib/python3.9/dist-packages (from requests>=2.26->yfinance) (1.26.15)\n",
            "Requirement already satisfied: certifi>=2017.4.17 in /usr/local/lib/python3.9/dist-packages (from requests>=2.26->yfinance) (2022.12.7)\n",
            "Requirement already satisfied: idna<4,>=2.5 in /usr/local/lib/python3.9/dist-packages (from requests>=2.26->yfinance) (3.4)\n",
            "Requirement already satisfied: charset-normalizer~=2.0.0 in /usr/local/lib/python3.9/dist-packages (from requests>=2.26->yfinance) (2.0.12)\n",
            "Requirement already satisfied: pycparser in /usr/local/lib/python3.9/dist-packages (from cffi>=1.12->cryptography>=3.3.2->yfinance) (2.21)\n"
          ]
        }
      ],
      "source": [
        "!pip install pandas\n",
        "!pip install yfinance"
      ]
    },
    {
      "cell_type": "code",
      "source": [
        "import numpy as np\n",
        "import pandas as pd \n",
        "import yfinance as yf\n",
        "import matplotlib.pyplot as plt\n",
        "from datetime import datetime"
      ],
      "metadata": {
        "id": "jj3uCNgEhTBm"
      },
      "execution_count": 28,
      "outputs": []
    },
    {
      "cell_type": "markdown",
      "source": [
        "## **獲取資料**"
      ],
      "metadata": {
        "id": "4FAz3z8-3I7V"
      }
    },
    {
      "cell_type": "code",
      "source": [
        "end = datetime.now()\n",
        "start = datetime(end.year -10 , end.month, end.day)\n",
        "\n",
        "df = yf.download('GOOG', start, end)"
      ],
      "metadata": {
        "colab": {
          "base_uri": "https://localhost:8080/"
        },
        "id": "kI0ZSLZqPyS8",
        "outputId": "81bf3b49-fff2-4839-e95c-df4df695f942"
      },
      "execution_count": 42,
      "outputs": [
        {
          "output_type": "stream",
          "name": "stdout",
          "text": [
            "\r[*********************100%***********************]  1 of 1 completed\n"
          ]
        }
      ]
    },
    {
      "cell_type": "markdown",
      "source": [
        "## **撰寫策略**"
      ],
      "metadata": {
        "id": "i9hGA2EU3Nkr"
      }
    },
    {
      "cell_type": "code",
      "source": [
        "def rsi(values, period = 60) : \n",
        "  up = values[values > 0 ].mean()\n",
        "  down = abs(values[values < 0 ]).mean()\n",
        "  return (up/(up+down) )*100"
      ],
      "metadata": {
        "id": "ieArAmzThdVD"
      },
      "execution_count": 43,
      "outputs": []
    },
    {
      "cell_type": "code",
      "source": [
        "df['Momentum_1D'] = (df['Close']-df['Close'].shift(1)).fillna(0)\n",
        "df['RSI'] = df['Momentum_1D'].rolling(center=False, window=60).apply(rsi).fillna(0)\n",
        "df['Volume_plain'] = df['Volume'].fillna(0)\n",
        "df.tail(5)"
      ],
      "metadata": {
        "id": "W9o1p-RghdmB",
        "colab": {
          "base_uri": "https://localhost:8080/",
          "height": 235
        },
        "outputId": "012842a6-690c-404a-9bda-2c6ea5493dd0"
      },
      "execution_count": 44,
      "outputs": [
        {
          "output_type": "execute_result",
          "data": {
            "text/plain": [
              "                  Open        High         Low       Close   Adj Close  \\\n",
              "Date                                                                     \n",
              "2023-03-31  101.709999  104.190002  101.440002  104.000000  104.000000   \n",
              "2023-04-03  102.669998  104.949997  102.379997  104.910004  104.910004   \n",
              "2023-04-04  104.839996  106.099998  104.599998  105.120003  105.120003   \n",
              "2023-04-05  106.120003  106.540001  104.101997  104.949997  104.949997   \n",
              "2023-04-06  105.769997  109.629997  104.815002  108.900002  108.900002   \n",
              "\n",
              "              Volume  Momentum_1D        RSI  Volume_plain  \n",
              "Date                                                        \n",
              "2023-03-31  28086500     2.680000  53.381247      28086500  \n",
              "2023-04-03  20719900     0.910004  53.051308      20719900  \n",
              "2023-04-04  20377200     0.209999  52.599941      20377200  \n",
              "2023-04-05  21864200    -0.170006  53.934422      21864200  \n",
              "2023-04-06  34684200     3.950005  55.259491      34684200  "
            ],
            "text/html": [
              "\n",
              "  <div id=\"df-c4c17ec7-b80c-48cd-a780-b4b82a7f83a2\">\n",
              "    <div class=\"colab-df-container\">\n",
              "      <div>\n",
              "<style scoped>\n",
              "    .dataframe tbody tr th:only-of-type {\n",
              "        vertical-align: middle;\n",
              "    }\n",
              "\n",
              "    .dataframe tbody tr th {\n",
              "        vertical-align: top;\n",
              "    }\n",
              "\n",
              "    .dataframe thead th {\n",
              "        text-align: right;\n",
              "    }\n",
              "</style>\n",
              "<table border=\"1\" class=\"dataframe\">\n",
              "  <thead>\n",
              "    <tr style=\"text-align: right;\">\n",
              "      <th></th>\n",
              "      <th>Open</th>\n",
              "      <th>High</th>\n",
              "      <th>Low</th>\n",
              "      <th>Close</th>\n",
              "      <th>Adj Close</th>\n",
              "      <th>Volume</th>\n",
              "      <th>Momentum_1D</th>\n",
              "      <th>RSI</th>\n",
              "      <th>Volume_plain</th>\n",
              "    </tr>\n",
              "    <tr>\n",
              "      <th>Date</th>\n",
              "      <th></th>\n",
              "      <th></th>\n",
              "      <th></th>\n",
              "      <th></th>\n",
              "      <th></th>\n",
              "      <th></th>\n",
              "      <th></th>\n",
              "      <th></th>\n",
              "      <th></th>\n",
              "    </tr>\n",
              "  </thead>\n",
              "  <tbody>\n",
              "    <tr>\n",
              "      <th>2023-03-31</th>\n",
              "      <td>101.709999</td>\n",
              "      <td>104.190002</td>\n",
              "      <td>101.440002</td>\n",
              "      <td>104.000000</td>\n",
              "      <td>104.000000</td>\n",
              "      <td>28086500</td>\n",
              "      <td>2.680000</td>\n",
              "      <td>53.381247</td>\n",
              "      <td>28086500</td>\n",
              "    </tr>\n",
              "    <tr>\n",
              "      <th>2023-04-03</th>\n",
              "      <td>102.669998</td>\n",
              "      <td>104.949997</td>\n",
              "      <td>102.379997</td>\n",
              "      <td>104.910004</td>\n",
              "      <td>104.910004</td>\n",
              "      <td>20719900</td>\n",
              "      <td>0.910004</td>\n",
              "      <td>53.051308</td>\n",
              "      <td>20719900</td>\n",
              "    </tr>\n",
              "    <tr>\n",
              "      <th>2023-04-04</th>\n",
              "      <td>104.839996</td>\n",
              "      <td>106.099998</td>\n",
              "      <td>104.599998</td>\n",
              "      <td>105.120003</td>\n",
              "      <td>105.120003</td>\n",
              "      <td>20377200</td>\n",
              "      <td>0.209999</td>\n",
              "      <td>52.599941</td>\n",
              "      <td>20377200</td>\n",
              "    </tr>\n",
              "    <tr>\n",
              "      <th>2023-04-05</th>\n",
              "      <td>106.120003</td>\n",
              "      <td>106.540001</td>\n",
              "      <td>104.101997</td>\n",
              "      <td>104.949997</td>\n",
              "      <td>104.949997</td>\n",
              "      <td>21864200</td>\n",
              "      <td>-0.170006</td>\n",
              "      <td>53.934422</td>\n",
              "      <td>21864200</td>\n",
              "    </tr>\n",
              "    <tr>\n",
              "      <th>2023-04-06</th>\n",
              "      <td>105.769997</td>\n",
              "      <td>109.629997</td>\n",
              "      <td>104.815002</td>\n",
              "      <td>108.900002</td>\n",
              "      <td>108.900002</td>\n",
              "      <td>34684200</td>\n",
              "      <td>3.950005</td>\n",
              "      <td>55.259491</td>\n",
              "      <td>34684200</td>\n",
              "    </tr>\n",
              "  </tbody>\n",
              "</table>\n",
              "</div>\n",
              "      <button class=\"colab-df-convert\" onclick=\"convertToInteractive('df-c4c17ec7-b80c-48cd-a780-b4b82a7f83a2')\"\n",
              "              title=\"Convert this dataframe to an interactive table.\"\n",
              "              style=\"display:none;\">\n",
              "        \n",
              "  <svg xmlns=\"http://www.w3.org/2000/svg\" height=\"24px\"viewBox=\"0 0 24 24\"\n",
              "       width=\"24px\">\n",
              "    <path d=\"M0 0h24v24H0V0z\" fill=\"none\"/>\n",
              "    <path d=\"M18.56 5.44l.94 2.06.94-2.06 2.06-.94-2.06-.94-.94-2.06-.94 2.06-2.06.94zm-11 1L8.5 8.5l.94-2.06 2.06-.94-2.06-.94L8.5 2.5l-.94 2.06-2.06.94zm10 10l.94 2.06.94-2.06 2.06-.94-2.06-.94-.94-2.06-.94 2.06-2.06.94z\"/><path d=\"M17.41 7.96l-1.37-1.37c-.4-.4-.92-.59-1.43-.59-.52 0-1.04.2-1.43.59L10.3 9.45l-7.72 7.72c-.78.78-.78 2.05 0 2.83L4 21.41c.39.39.9.59 1.41.59.51 0 1.02-.2 1.41-.59l7.78-7.78 2.81-2.81c.8-.78.8-2.07 0-2.86zM5.41 20L4 18.59l7.72-7.72 1.47 1.35L5.41 20z\"/>\n",
              "  </svg>\n",
              "      </button>\n",
              "      \n",
              "  <style>\n",
              "    .colab-df-container {\n",
              "      display:flex;\n",
              "      flex-wrap:wrap;\n",
              "      gap: 12px;\n",
              "    }\n",
              "\n",
              "    .colab-df-convert {\n",
              "      background-color: #E8F0FE;\n",
              "      border: none;\n",
              "      border-radius: 50%;\n",
              "      cursor: pointer;\n",
              "      display: none;\n",
              "      fill: #1967D2;\n",
              "      height: 32px;\n",
              "      padding: 0 0 0 0;\n",
              "      width: 32px;\n",
              "    }\n",
              "\n",
              "    .colab-df-convert:hover {\n",
              "      background-color: #E2EBFA;\n",
              "      box-shadow: 0px 1px 2px rgba(60, 64, 67, 0.3), 0px 1px 3px 1px rgba(60, 64, 67, 0.15);\n",
              "      fill: #174EA6;\n",
              "    }\n",
              "\n",
              "    [theme=dark] .colab-df-convert {\n",
              "      background-color: #3B4455;\n",
              "      fill: #D2E3FC;\n",
              "    }\n",
              "\n",
              "    [theme=dark] .colab-df-convert:hover {\n",
              "      background-color: #434B5C;\n",
              "      box-shadow: 0px 1px 3px 1px rgba(0, 0, 0, 0.15);\n",
              "      filter: drop-shadow(0px 1px 2px rgba(0, 0, 0, 0.3));\n",
              "      fill: #FFFFFF;\n",
              "    }\n",
              "  </style>\n",
              "\n",
              "      <script>\n",
              "        const buttonEl =\n",
              "          document.querySelector('#df-c4c17ec7-b80c-48cd-a780-b4b82a7f83a2 button.colab-df-convert');\n",
              "        buttonEl.style.display =\n",
              "          google.colab.kernel.accessAllowed ? 'block' : 'none';\n",
              "\n",
              "        async function convertToInteractive(key) {\n",
              "          const element = document.querySelector('#df-c4c17ec7-b80c-48cd-a780-b4b82a7f83a2');\n",
              "          const dataTable =\n",
              "            await google.colab.kernel.invokeFunction('convertToInteractive',\n",
              "                                                     [key], {});\n",
              "          if (!dataTable) return;\n",
              "\n",
              "          const docLinkHtml = 'Like what you see? Visit the ' +\n",
              "            '<a target=\"_blank\" href=https://colab.research.google.com/notebooks/data_table.ipynb>data table notebook</a>'\n",
              "            + ' to learn more about interactive tables.';\n",
              "          element.innerHTML = '';\n",
              "          dataTable['output_type'] = 'display_data';\n",
              "          await google.colab.output.renderOutput(dataTable, element);\n",
              "          const docLink = document.createElement('div');\n",
              "          docLink.innerHTML = docLinkHtml;\n",
              "          element.appendChild(docLink);\n",
              "        }\n",
              "      </script>\n",
              "    </div>\n",
              "  </div>\n",
              "  "
            ]
          },
          "metadata": {},
          "execution_count": 44
        }
      ]
    },
    {
      "cell_type": "code",
      "source": [
        "#策略：： RSI14 < 40 買進，，RSI > 60 賣出\n",
        "rsi = df['RSI'].tolist()\n",
        "#訊號標籤\n",
        "sig = []\n",
        "\n",
        "stock = 0 \n",
        "\n",
        "#偵測訊號\n",
        "for i in range(len(rsi)):\n",
        "  if rsi[i] > 60 and stock == 1 :\n",
        "    stock -= 1 \n",
        "    sig.append(-1)\n",
        "  elif rsi[i] < 40 and stock == 0:\n",
        "    stock += 1 \n",
        "    sig.append(1)\n",
        "  else: \n",
        "    sig.append(0)\n"
      ],
      "metadata": {
        "id": "sRH7d0S6hn6i"
      },
      "execution_count": 49,
      "outputs": []
    },
    {
      "cell_type": "code",
      "source": [
        "price = df['Close'].to_numpy()\n",
        "\n",
        "rets = []\n",
        "stock = 0 \n",
        "buy_price = 0\n",
        "sell_price = 0\n",
        "\n",
        "for j in range(len(sig)):\n",
        "  if sig[j] == 1 : \n",
        "    buy_price = price[j+1]\n",
        "    rets.append((sell_price - buy_price) / buy_price)\n",
        "    #stock += 1\n",
        "  elif sig[j] == -1 :\n",
        "    sell_price = price[j+1]\n",
        "    rets.append((sell_price - buy_price) / buy_price)\n",
        "    #stock -= 1\n",
        "\n",
        "#print(np.delete(rets,[0]))\n",
        "print(buy_price)\n",
        "print(sell_price)\n",
        "print(rets)\n",
        "rets = np.delete(rets,[0])\n",
        "print(rets)\n",
        "\n",
        "total_ret = 1\n",
        "for k in range(len(rets)):\n",
        "  total_ret *= 1 + rets[k]\n",
        "\n",
        "print(str(round((total_ret-1)*100,4))+'%')\n"
      ],
      "metadata": {
        "colab": {
          "base_uri": "https://localhost:8080/"
        },
        "id": "X7vqMzDPh4qs",
        "outputId": "71704092-ecd3-456d-a5ff-812f623fa2d2"
      },
      "execution_count": 50,
      "outputs": [
        {
          "output_type": "stream",
          "name": "stdout",
          "text": [
            "133.2655029296875\n",
            "108.80000305175781\n",
            "[-1.0, 0.2697106675355376, -0.007409795327729437, 0.31680236984957366, -0.007841176698252784, 0.16155397346528727, -0.16478001908990556, 0.10371653879177332, 0.021093768808903554, 0.257963696884226, 0.21250794072816495, 0.282013377757001, 0.043541396640561426, 0.4298689669275919, -0.31310432660291965, -0.18358464373813216]\n",
            "[ 0.26971067 -0.0074098   0.31680237 -0.00784118  0.16155397 -0.16478002\n",
            "  0.10371654  0.02109377  0.2579637   0.21250794  0.28201338  0.0435414\n",
            "  0.42986897 -0.31310433 -0.18358464]\n",
            "194.5731%\n"
          ]
        }
      ]
    },
    {
      "cell_type": "code",
      "source": [],
      "metadata": {
        "id": "GEcDHWCch6Sb"
      },
      "execution_count": 8,
      "outputs": []
    }
  ]
}